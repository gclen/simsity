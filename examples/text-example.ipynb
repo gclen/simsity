{
 "cells": [
  {
   "cell_type": "code",
   "execution_count": 1,
   "id": "06fdb205-a61c-4836-ba59-aa4a0fe92439",
   "metadata": {},
   "outputs": [],
   "source": [
    "%load_ext autoreload\n",
    "%autoreload 2"
   ]
  },
  {
   "cell_type": "code",
   "execution_count": 2,
   "id": "63e3e789-7a00-4742-ab40-0f84159ef768",
   "metadata": {},
   "outputs": [
    {
     "name": "stderr",
     "output_type": "stream",
     "text": [
      "/home/vincent/Development/simwity/venv/lib/python3.7/site-packages/scipy/sparse/_index.py:125: SparseEfficiencyWarning: Changing the sparsity structure of a csr_matrix is expensive. lil_matrix is more efficient.\n",
      "  self._set_arrayXarray(i, j, x)\n"
     ]
    },
    {
     "data": {
      "text/plain": [
       "<simsity.service.Service at 0x7f946d77cc50>"
      ]
     },
     "execution_count": 2,
     "metadata": {},
     "output_type": "execute_result"
    }
   ],
   "source": [
    "from simsity.service import Service \n",
    "from simsity.datasets import fetch_clinc\n",
    "from simsity.indexer import PyNNDescentIndexer\n",
    "from simsity.preprocessing import ColumnLister\n",
    "\n",
    "from sklearn.pipeline import make_pipeline\n",
    "from sklearn.feature_extraction.text import CountVectorizer\n",
    "\n",
    "# We first fetch a dataset\n",
    "df = fetch_clinc()\n",
    "\n",
    "# The Encoder handles the encoding of the datapoints\n",
    "encoder = make_pipeline(ColumnLister(column=\"text\"), CountVectorizer())\n",
    "\n",
    "# The Indexer handles the nearest neighbor search\n",
    "indexer = PyNNDescentIndexer(metric=\"euclidean\", n_jobs=6)\n",
    "\n",
    "# The Service combines them together into a service\n",
    "service = Service(\n",
    "    indexer=indexer,\n",
    "    encoder=encoder\n",
    ")\n",
    "\n",
    "# Important for later: we're only passing the 'text' column to encode\n",
    "service.train_from_dataf(df, features=[\"text\"])"
   ]
  },
  {
   "cell_type": "code",
   "execution_count": 3,
   "id": "7627ebab-aa6f-4ca9-acce-45e1314cf9d1",
   "metadata": {},
   "outputs": [
    {
     "data": {
      "text/html": [
       "<div>\n",
       "<style scoped>\n",
       "    .dataframe tbody tr th:only-of-type {\n",
       "        vertical-align: middle;\n",
       "    }\n",
       "\n",
       "    .dataframe tbody tr th {\n",
       "        vertical-align: top;\n",
       "    }\n",
       "\n",
       "    .dataframe thead th {\n",
       "        text-align: right;\n",
       "    }\n",
       "</style>\n",
       "<table border=\"1\" class=\"dataframe\">\n",
       "  <thead>\n",
       "    <tr style=\"text-align: right;\">\n",
       "      <th></th>\n",
       "      <th>text</th>\n",
       "      <th>dist</th>\n",
       "    </tr>\n",
       "  </thead>\n",
       "  <tbody>\n",
       "    <tr>\n",
       "      <th>0</th>\n",
       "      <td>set a timer</td>\n",
       "      <td>1.000000</td>\n",
       "    </tr>\n",
       "    <tr>\n",
       "      <th>1</th>\n",
       "      <td>please set a timer for</td>\n",
       "      <td>1.000000</td>\n",
       "    </tr>\n",
       "    <tr>\n",
       "      <th>2</th>\n",
       "      <td>\"please set 5 minute timer</td>\n",
       "      <td>1.000000</td>\n",
       "    </tr>\n",
       "    <tr>\n",
       "      <th>3</th>\n",
       "      <td>please set a 4 minute timer</td>\n",
       "      <td>1.000000</td>\n",
       "    </tr>\n",
       "    <tr>\n",
       "      <th>4</th>\n",
       "      <td>start a timer please</td>\n",
       "      <td>1.414214</td>\n",
       "    </tr>\n",
       "  </tbody>\n",
       "</table>\n",
       "</div>"
      ],
      "text/plain": [
       "                          text      dist\n",
       "0                  set a timer  1.000000\n",
       "1       please set a timer for  1.000000\n",
       "2   \"please set 5 minute timer  1.000000\n",
       "3  please set a 4 minute timer  1.000000\n",
       "4         start a timer please  1.414214"
      ]
     },
     "execution_count": 3,
     "metadata": {},
     "output_type": "execute_result"
    }
   ],
   "source": [
    "# Query the datapoints\n",
    "# Note that the keyword argument here refers to 'text'-column\n",
    "service.query(text=\"please set a timer\", n_neighbors=5, out=\"dataframe\")"
   ]
  },
  {
   "cell_type": "code",
   "execution_count": 5,
   "id": "eb4c30c7-70a4-4e45-a089-3b45c56f4478",
   "metadata": {},
   "outputs": [
    {
     "data": {
      "application/vnd.jupyter.widget-view+json": {
       "model_id": "ce7ae976710443a79aad3430c1938ca4",
       "version_major": 2,
       "version_minor": 0
      },
      "text/plain": [
       "VBox(children=(Text(value=''), Output()))"
      ]
     },
     "metadata": {},
     "output_type": "display_data"
    }
   ],
   "source": [
    "import ipywidgets as widgets\n",
    "\n",
    "def reduce(q):\n",
    "    subset = service.query(text=q, n_neighbors=15, out=\"dataframe\")\n",
    "    display(subset)\n",
    "\n",
    "q = widgets.Text()\n",
    "\n",
    "out = widgets.interactive_output(reduce, {'q': q})\n",
    "\n",
    "widgets.VBox([q, out])"
   ]
  },
  {
   "cell_type": "code",
   "execution_count": null,
   "id": "5358012e-6f0b-405f-bff7-dec13e9d77b6",
   "metadata": {},
   "outputs": [],
   "source": []
  }
 ],
 "metadata": {
  "kernelspec": {
   "display_name": "Python 3 (ipykernel)",
   "language": "python",
   "name": "python3"
  },
  "language_info": {
   "codemirror_mode": {
    "name": "ipython",
    "version": 3
   },
   "file_extension": ".py",
   "mimetype": "text/x-python",
   "name": "python",
   "nbconvert_exporter": "python",
   "pygments_lexer": "ipython3",
   "version": "3.7.9"
  }
 },
 "nbformat": 4,
 "nbformat_minor": 5
}
