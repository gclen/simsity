{
 "cells": [
  {
   "cell_type": "code",
   "execution_count": 1,
   "id": "a34e0a91-86a6-4d8d-9622-45cbbcc4f85c",
   "metadata": {},
   "outputs": [],
   "source": [
    "%load_ext autoreload\n",
    "%autoreload 2"
   ]
  },
  {
   "cell_type": "code",
   "execution_count": 17,
   "id": "c7656274-8a61-43e6-85b4-ad3cccce2177",
   "metadata": {},
   "outputs": [],
   "source": [
    "import pandas as pd \n",
    "\n",
    "from simsity.service import Service\n",
    "from simsity.indexer import PyNNDescentIndexer\n",
    "from sklearn.feature_extraction.text import CountVectorizer\n",
    "\n",
    "from dirty_cat import SuperVectorizer, GapEncoder, SimilarityEncoder\n",
    "\n",
    "df = pd.read_csv(\"tests/data/votes.csv\")"
   ]
  },
  {
   "cell_type": "code",
   "execution_count": 18,
   "id": "1c0812e2-acd7-49e1-a799-19ad64e7e396",
   "metadata": {},
   "outputs": [
    {
     "data": {
      "text/plain": [
       "<simsity.service.Service at 0x7f23cc12a790>"
      ]
     },
     "execution_count": 18,
     "metadata": {},
     "output_type": "execute_result"
    }
   ],
   "source": [
    "# The Indexer handles the nearest neighbor search\n",
    "# The Encoder handles the encoding of the datapoints\n",
    "service = Service(\n",
    "    indexer=PyNNDescentIndexer(metric=\"euclidean\"),\n",
    "    encoder=GapEncoder()\n",
    ")\n",
    "\n",
    "# Index the datapoints\n",
    "service.train_from_dataf(df)"
   ]
  },
  {
   "cell_type": "code",
   "execution_count": 20,
   "id": "a2613e6c-e578-4324-9457-448d252dc54c",
   "metadata": {},
   "outputs": [
    {
     "name": "stdout",
     "output_type": "stream",
     "text": [
      "            name     suburb postcode\n",
      "0  khimerc thmas  chariotte    28273\n",
      "[[ 0.0596554   0.06791666  0.06847076  0.08647708  0.05170324 16.43934886\n",
      "   0.05688832  0.05048875  0.0516507   0.06740001  0.11370962  1.82877926\n",
      "   0.05012654  0.0528251   0.05690215  0.06122039  0.05002451  8.65109638\n",
      "   0.08531517  0.05000075  0.06603864  0.05796889  0.05840018  0.06561765\n",
      "   0.06964407  0.06205977  0.05795998  0.0603392   0.06358042  4.4383912 ]]\n"
     ]
    },
    {
     "data": {
      "text/html": [
       "<div>\n",
       "<style scoped>\n",
       "    .dataframe tbody tr th:only-of-type {\n",
       "        vertical-align: middle;\n",
       "    }\n",
       "\n",
       "    .dataframe tbody tr th {\n",
       "        vertical-align: top;\n",
       "    }\n",
       "\n",
       "    .dataframe thead th {\n",
       "        text-align: right;\n",
       "    }\n",
       "</style>\n",
       "<table border=\"1\" class=\"dataframe\">\n",
       "  <thead>\n",
       "    <tr style=\"text-align: right;\">\n",
       "      <th></th>\n",
       "      <th>name</th>\n",
       "      <th>suburb</th>\n",
       "      <th>postcode</th>\n",
       "      <th>dist</th>\n",
       "    </tr>\n",
       "  </thead>\n",
       "  <tbody>\n",
       "    <tr>\n",
       "      <th>0</th>\n",
       "      <td>chimerc thmas</td>\n",
       "      <td>chaflotte</td>\n",
       "      <td>28269</td>\n",
       "      <td>2.530248</td>\n",
       "    </tr>\n",
       "    <tr>\n",
       "      <th>1</th>\n",
       "      <td>chimerc thomas</td>\n",
       "      <td>charlotte</td>\n",
       "      <td>28269</td>\n",
       "      <td>2.850551</td>\n",
       "    </tr>\n",
       "    <tr>\n",
       "      <th>2</th>\n",
       "      <td>khimerc thomas</td>\n",
       "      <td>charlotte</td>\n",
       "      <td>2826g</td>\n",
       "      <td>3.006523</td>\n",
       "    </tr>\n",
       "    <tr>\n",
       "      <th>3</th>\n",
       "      <td>quianha pope</td>\n",
       "      <td>charlotre</td>\n",
       "      <td>28213</td>\n",
       "      <td>3.458782</td>\n",
       "    </tr>\n",
       "    <tr>\n",
       "      <th>4</th>\n",
       "      <td>derek oliver</td>\n",
       "      <td>charlotte</td>\n",
       "      <td>28210</td>\n",
       "      <td>4.273445</td>\n",
       "    </tr>\n",
       "    <tr>\n",
       "      <th>...</th>\n",
       "      <td>...</td>\n",
       "      <td>...</td>\n",
       "      <td>...</td>\n",
       "      <td>...</td>\n",
       "    </tr>\n",
       "    <tr>\n",
       "      <th>95</th>\n",
       "      <td>donalr barney</td>\n",
       "      <td>fayetteville</td>\n",
       "      <td>z8303</td>\n",
       "      <td>21.409716</td>\n",
       "    </tr>\n",
       "    <tr>\n",
       "      <th>96</th>\n",
       "      <td>cheryl beemam</td>\n",
       "      <td>chqrlotte</td>\n",
       "      <td>28216</td>\n",
       "      <td>21.495573</td>\n",
       "    </tr>\n",
       "    <tr>\n",
       "      <th>97</th>\n",
       "      <td>gino furgiuele</td>\n",
       "      <td>charlotte</td>\n",
       "      <td>28217</td>\n",
       "      <td>21.585423</td>\n",
       "    </tr>\n",
       "    <tr>\n",
       "      <th>98</th>\n",
       "      <td>earl harris</td>\n",
       "      <td>fayetteville</td>\n",
       "      <td>28314</td>\n",
       "      <td>21.589436</td>\n",
       "    </tr>\n",
       "    <tr>\n",
       "      <th>99</th>\n",
       "      <td>donajd barney</td>\n",
       "      <td>fayetteviloe</td>\n",
       "      <td>28303</td>\n",
       "      <td>21.602001</td>\n",
       "    </tr>\n",
       "  </tbody>\n",
       "</table>\n",
       "<p>100 rows × 4 columns</p>\n",
       "</div>"
      ],
      "text/plain": [
       "              name        suburb postcode       dist\n",
       "0    chimerc thmas     chaflotte    28269   2.530248\n",
       "1   chimerc thomas     charlotte    28269   2.850551\n",
       "2   khimerc thomas     charlotte    2826g   3.006523\n",
       "3     quianha pope     charlotre    28213   3.458782\n",
       "4     derek oliver     charlotte    28210   4.273445\n",
       "..             ...           ...      ...        ...\n",
       "95   donalr barney  fayetteville    z8303  21.409716\n",
       "96   cheryl beemam     chqrlotte    28216  21.495573\n",
       "97  gino furgiuele     charlotte    28217  21.585423\n",
       "98     earl harris  fayetteville    28314  21.589436\n",
       "99   donajd barney  fayetteviloe    28303  21.602001\n",
       "\n",
       "[100 rows x 4 columns]"
      ]
     },
     "execution_count": 20,
     "metadata": {},
     "output_type": "execute_result"
    }
   ],
   "source": [
    "# Query the datapoints\n",
    "res = service.query(name=\"khimerc thmas\", suburb=\"chariotte\", postcode=\"28273\", n_neighbors=100)\n",
    "pd.DataFrame([{**r['item'], 'dist': r['dist']} for r in res])"
   ]
  },
  {
   "cell_type": "code",
   "execution_count": null,
   "id": "c7daca49-8f09-4cbc-ba24-fff698a9fb2d",
   "metadata": {},
   "outputs": [],
   "source": []
  }
 ],
 "metadata": {
  "kernelspec": {
   "display_name": "Python 3 (ipykernel)",
   "language": "python",
   "name": "python3"
  },
  "language_info": {
   "codemirror_mode": {
    "name": "ipython",
    "version": 3
   },
   "file_extension": ".py",
   "mimetype": "text/x-python",
   "name": "python",
   "nbconvert_exporter": "python",
   "pygments_lexer": "ipython3",
   "version": "3.7.9"
  }
 },
 "nbformat": 4,
 "nbformat_minor": 5
}
