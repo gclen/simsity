{
 "cells": [
  {
   "cell_type": "code",
   "execution_count": 13,
   "id": "e6e6846d-95cd-493c-aaa5-a92bed534c13",
   "metadata": {},
   "outputs": [],
   "source": [
    "%load_ext autoreload\n",
    "%autoreload 2"
   ]
  },
  {
   "cell_type": "code",
   "execution_count": 28,
   "id": "cd193483-0906-4e1b-b949-4486f9d5068d",
   "metadata": {},
   "outputs": [],
   "source": [
    "import pandas as pd\n",
    "\n",
    "from simsity.service import Service\n",
    "from simsity.indexer import PyNNDescentIndexer\n",
    "from simsity.preprocessing import ColumnLister\n",
    "from simsity.datasets import fetch_voters\n",
    "from sklearn.pipeline import make_pipeline\n",
    "from sklearn.feature_extraction.text import CountVectorizer\n",
    "from dirty_cat import GapEncoder\n",
    "\n",
    "df = fetch_voters()"
   ]
  },
  {
   "cell_type": "code",
   "execution_count": 29,
   "id": "13a3f804-3485-4e50-b80a-0568c0ec0f52",
   "metadata": {},
   "outputs": [
    {
     "name": "stdout",
     "output_type": "stream",
     "text": [
      "| name               | suburb     | postcode   |\n",
      "|:-------------------|:-----------|:-----------|\n",
      "| khimerc thomas     | charlotte  | 2826g      |\n",
      "| lucille richardst  | kannapolis | 28o81      |\n",
      "| reb3cca bauerboand | raleigh    | 27615      |\n",
      "| maleda mccloud     | goldsboro  | 2753o      |\n",
      "| belida stovall     | morrisvill | 27560      |\n"
     ]
    }
   ],
   "source": [
    "print(df.head().to_markdown(index=False))"
   ]
  },
  {
   "cell_type": "code",
   "execution_count": 31,
   "id": "1673c8a4-4173-498f-84f9-5faf7b8f1aaf",
   "metadata": {},
   "outputs": [
    {
     "name": "stdout",
     "output_type": "stream",
     "text": [
      "CPU times: user 25.4 s, sys: 38.1 s, total: 1min 3s\n",
      "Wall time: 15.7 s\n"
     ]
    },
    {
     "data": {
      "text/plain": [
       "<simsity.service.Service at 0x7f5fa55b4310>"
      ]
     },
     "execution_count": 31,
     "metadata": {},
     "output_type": "execute_result"
    }
   ],
   "source": [
    "%%time\n",
    "service = Service(\n",
    "    indexer=PyNNDescentIndexer(metric=\"euclidean\", n_jobs=10),\n",
    "    encoder=GapEncoder()\n",
    ")\n",
    "\n",
    "service.train_from_dataf(df)"
   ]
  },
  {
   "cell_type": "code",
   "execution_count": 37,
   "id": "fbfd5569-d775-4890-bccb-b9adba07ce65",
   "metadata": {},
   "outputs": [
    {
     "name": "stdout",
     "output_type": "stream",
     "text": [
      "| name           | suburb    | postcode   |    dist |\n",
      "|:---------------|:----------|:-----------|--------:|\n",
      "| quianha pope   | charlotre | 28213      | 4.37905 |\n",
      "| kendel beachum | charlotte | 28226      | 4.95305 |\n",
      "| quianna pope   | charlotte | 28213      | 6.38749 |\n",
      "| mariq simpsony | charlotte | 28269      | 6.49048 |\n",
      "| chimerc thmas  | chaflotte | 28269      | 6.77853 |\n",
      "| maria simpson  | charlotte | 28269      | 6.94005 |\n",
      "| quiarina pope  | charlotte | 28113      | 7.42305 |\n",
      "| angelique deas | charlotte | 28278      | 7.60146 |\n",
      "| chimerc thomas | charlotte | 28269      | 8.28961 |\n",
      "| khimerc thomas | charlotte | 2826g      | 8.4277  |\n"
     ]
    }
   ],
   "source": [
    "out = service.query(name=\"kimerc thmas\", suburb=\"chariotte\", postcode=\"28273\", n_neighbors=10, out=\"dataframe\")\n",
    "print(out.to_markdown(index=False))"
   ]
  },
  {
   "cell_type": "code",
   "execution_count": 38,
   "id": "34f0ad11-b57f-4742-a386-c9e621a085be",
   "metadata": {},
   "outputs": [
    {
     "name": "stdout",
     "output_type": "stream",
     "text": [
      "| name                | suburb     |   postcode |   dist |\n",
      "|:--------------------|:-----------|-----------:|-------:|\n",
      "| donnell bdloodworth | wilmington |      28112 |    inf |\n",
      "| donnell bdloodworth | wilmington |      28112 |    inf |\n",
      "| donnell bdloodworth | wilmington |      28112 |    inf |\n",
      "| donnell bdloodworth | wilmington |      28112 |    inf |\n",
      "| donnell bdloodworth | wilmington |      28112 |    inf |\n",
      "| donnell bdloodworth | wilmington |      28112 |    inf |\n",
      "| donnell bdloodworth | wilmington |      28112 |    inf |\n",
      "| donnell bdloodworth | wilmington |      28112 |    inf |\n",
      "| donnell bdloodworth | wilmington |      28112 |    inf |\n",
      "| donnell bdloodworth | wilmington |      28112 |    inf |\n"
     ]
    }
   ],
   "source": [
    "print(service.query(text=\"please set a timer\", n_neighbors=10, out=\"dataframe\").to_markdown(index=False))"
   ]
  },
  {
   "cell_type": "code",
   "execution_count": 22,
   "id": "b32776b6-3442-4acf-8e42-bae7a8a87414",
   "metadata": {},
   "outputs": [
    {
     "data": {
      "text/plain": [
       "[{'item': {'text': 'please set a 4 minute timer'}, 'dist': 1.0},\n",
       " {'item': {'text': 'set a timer'}, 'dist': 1.0},\n",
       " {'item': {'text': 'please set a timer for'}, 'dist': 1.0},\n",
       " {'item': {'text': '\"please set 5 minute timer'}, 'dist': 1.0},\n",
       " {'item': {'text': 'start a timer please'}, 'dist': 1.4142135381698608},\n",
       " {'item': {'text': 'please begin a timer'}, 'dist': 1.4142135381698608},\n",
       " {'item': {'text': 'set a 2 minute timer'}, 'dist': 1.4142135381698608},\n",
       " {'item': {'text': 'set a 4 minute timer'}, 'dist': 1.4142135381698608},\n",
       " {'item': {'text': 'set a 1 minute timer'}, 'dist': 1.4142135381698608},\n",
       " {'item': {'text': 'set a five minute timer please'},\n",
       "  'dist': 1.4142135381698608}]"
      ]
     },
     "execution_count": 22,
     "metadata": {},
     "output_type": "execute_result"
    }
   ],
   "source": [
    "service.query(text=\"please set a timer\", n_neighbors=10, out=\"list\")"
   ]
  }
 ],
 "metadata": {
  "kernelspec": {
   "display_name": "Python 3 (ipykernel)",
   "language": "python",
   "name": "python3"
  },
  "language_info": {
   "codemirror_mode": {
    "name": "ipython",
    "version": 3
   },
   "file_extension": ".py",
   "mimetype": "text/x-python",
   "name": "python",
   "nbconvert_exporter": "python",
   "pygments_lexer": "ipython3",
   "version": "3.7.9"
  }
 },
 "nbformat": 4,
 "nbformat_minor": 5
}
