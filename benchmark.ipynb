{
 "cells": [
  {
   "cell_type": "code",
   "execution_count": 1,
   "id": "9cba2151-d4cf-4515-b65d-c0c13e1bf7ad",
   "metadata": {},
   "outputs": [],
   "source": [
    "%load_ext autoreload\n",
    "%autoreload 2"
   ]
  },
  {
   "cell_type": "code",
   "execution_count": 2,
   "id": "1ea41cef-a5c4-42d3-aab7-d47ed23395c6",
   "metadata": {},
   "outputs": [
    {
     "name": "stderr",
     "output_type": "stream",
     "text": [
      "2021-10-17 22:40:16.260072: W tensorflow/stream_executor/platform/default/dso_loader.cc:60] Could not load dynamic library 'libcudart.so.11.0'; dlerror: libcudart.so.11.0: cannot open shared object file: No such file or directory\n",
      "2021-10-17 22:40:16.260091: I tensorflow/stream_executor/cuda/cudart_stub.cc:29] Ignore above cudart dlerror if you do not have a GPU set up on your machine.\n"
     ]
    }
   ],
   "source": [
    "import numpy as np\n",
    "import pandas as pd\n",
    "from tqdm import tqdm\n",
    "from datasketch import MinHash, MinHashLSH\n",
    "\n",
    "from sklearn.pipeline import make_pipeline, make_union\n",
    "from sklearn.feature_extraction.text import CountVectorizer\n",
    "\n",
    "from simsity.indexer import PyNNDescentIndexer\n",
    "from simsity.service import Service\n",
    "from simsity.preprocessing import ColumnLister\n",
    "\n",
    "from whatlies.language import BytePairLanguage\n",
    "\n",
    "def predict_value(df_valid):\n",
    "    results = [] \n",
    "    for d in tqdm(df_valid.to_dict(orient='records'), desc=\"calculating stats\"):\n",
    "        results_df = service.query(text=d['text'], out=\"dataframe\", n_neighbors=40)\n",
    "        for k in range(1, 40):\n",
    "            df_at_k = results_df.head(k)\n",
    "            precision = np.mean(df_at_k['label'] == d['label'])\n",
    "            recall = np.sum(df_at_k['label'] == d['label'])/30\n",
    "            results.append({'precision': precision, 'recall': recall, 'k': k, 'text': d['text']})\n",
    "    return results"
   ]
  },
  {
   "cell_type": "code",
   "execution_count": 3,
   "id": "c188158b-a0ce-4021-93ba-3e9ac14c4d89",
   "metadata": {},
   "outputs": [],
   "source": [
    "df = pd.read_csv(\"tests/data/clinc-data.csv\")\n",
    "df_train, df_valid = df.loc[lambda d: d['split'] == 'train'], df.loc[lambda d: d['split'] == 'valid']"
   ]
  },
  {
   "cell_type": "code",
   "execution_count": 4,
   "id": "a5547390-56da-49fb-a4c2-20387f015c65",
   "metadata": {},
   "outputs": [
    {
     "name": "stderr",
     "output_type": "stream",
     "text": [
      "calculating stats: 100%|██████████████| 5500/5500 [02:24<00:00, 38.05it/s]"
     ]
    },
    {
     "name": "stdout",
     "output_type": "stream",
     "text": [
      "CPU times: user 6min 11s, sys: 3.39 s, total: 6min 15s\n",
      "Wall time: 3min 52s\n"
     ]
    },
    {
     "name": "stderr",
     "output_type": "stream",
     "text": [
      "\n"
     ]
    }
   ],
   "source": [
    "%%time \n",
    "\n",
    "encoder = make_pipeline(\n",
    "    ColumnLister('text'), \n",
    "    make_union(\n",
    "        CountVectorizer(),\n",
    "        CountVectorizer(analyzer=\"char\", ngram_range=(2, 3)),\n",
    "        BytePairLanguage(\"en\", vs=1_000),\n",
    "        BytePairLanguage(\"en\", vs=100_000),\n",
    "    )\n",
    ")\n",
    "indexer = PyNNDescentIndexer(metric=\"cosine\")\n",
    "service = Service(encoder=encoder, indexer=indexer)\n",
    "service.train_from_dataf(df_train)\n",
    "\n",
    "results_df_orig = predict_value(df_valid)"
   ]
  },
  {
   "cell_type": "code",
   "execution_count": 8,
   "id": "dcf4bf10-8fb1-496f-8982-0da99007ab44",
   "metadata": {},
   "outputs": [
    {
     "name": "stderr",
     "output_type": "stream",
     "text": [
      "calculating stats: 100%|██████████████| 5500/5500 [01:44<00:00, 52.54it/s]"
     ]
    },
    {
     "name": "stdout",
     "output_type": "stream",
     "text": [
      "CPU times: user 2min 18s, sys: 1.92 s, total: 2min 20s\n",
      "Wall time: 1min 49s\n"
     ]
    },
    {
     "name": "stderr",
     "output_type": "stream",
     "text": [
      "\n"
     ]
    }
   ],
   "source": [
    "%%time \n",
    "\n",
    "encoder = make_pipeline(\n",
    "    ColumnLister('text'), \n",
    "    make_union(\n",
    "        CountVectorizer(),\n",
    "    )\n",
    ")\n",
    "indexer = PyNNDescentIndexer(metric=\"cosine\")\n",
    "service = Service(encoder=encoder, indexer=indexer)\n",
    "service.train_from_dataf(df_train)\n",
    "\n",
    "results_df_new = predict_value(df_valid)"
   ]
  },
  {
   "cell_type": "code",
   "execution_count": 9,
   "id": "fae0f4da-e244-4f3c-a4ec-950df83b9f48",
   "metadata": {},
   "outputs": [],
   "source": [
    "plot_df = pd.concat([\n",
    "    pd.DataFrame(results_df_orig).assign(setting=\"orig\"), \n",
    "    pd.DataFrame(results_df_new).assign(setting=\"new\")\n",
    "]).groupby([\"k\", \"setting\"]).mean().reset_index()"
   ]
  },
  {
   "cell_type": "code",
   "execution_count": 10,
   "id": "953da125-b1c2-4d8f-b943-03e525967a04",
   "metadata": {},
   "outputs": [
    {
     "data": {
      "text/html": [
       "\n",
       "<div id=\"altair-viz-aa040bf6e47843b6bb5c35f662f4fd5d\"></div>\n",
       "<script type=\"text/javascript\">\n",
       "  (function(spec, embedOpt){\n",
       "    let outputDiv = document.currentScript.previousElementSibling;\n",
       "    if (outputDiv.id !== \"altair-viz-aa040bf6e47843b6bb5c35f662f4fd5d\") {\n",
       "      outputDiv = document.getElementById(\"altair-viz-aa040bf6e47843b6bb5c35f662f4fd5d\");\n",
       "    }\n",
       "    const paths = {\n",
       "      \"vega\": \"https://cdn.jsdelivr.net/npm//vega@5?noext\",\n",
       "      \"vega-lib\": \"https://cdn.jsdelivr.net/npm//vega-lib?noext\",\n",
       "      \"vega-lite\": \"https://cdn.jsdelivr.net/npm//vega-lite@4.8.1?noext\",\n",
       "      \"vega-embed\": \"https://cdn.jsdelivr.net/npm//vega-embed@6?noext\",\n",
       "    };\n",
       "\n",
       "    function loadScript(lib) {\n",
       "      return new Promise(function(resolve, reject) {\n",
       "        var s = document.createElement('script');\n",
       "        s.src = paths[lib];\n",
       "        s.async = true;\n",
       "        s.onload = () => resolve(paths[lib]);\n",
       "        s.onerror = () => reject(`Error loading script: ${paths[lib]}`);\n",
       "        document.getElementsByTagName(\"head\")[0].appendChild(s);\n",
       "      });\n",
       "    }\n",
       "\n",
       "    function showError(err) {\n",
       "      outputDiv.innerHTML = `<div class=\"error\" style=\"color:red;\">${err}</div>`;\n",
       "      throw err;\n",
       "    }\n",
       "\n",
       "    function displayChart(vegaEmbed) {\n",
       "      vegaEmbed(outputDiv, spec, embedOpt)\n",
       "        .catch(err => showError(`Javascript Error: ${err.message}<br>This usually means there's a typo in your chart specification. See the javascript console for the full traceback.`));\n",
       "    }\n",
       "\n",
       "    if(typeof define === \"function\" && define.amd) {\n",
       "      requirejs.config({paths});\n",
       "      require([\"vega-embed\"], displayChart, err => showError(`Error loading script: ${err.message}`));\n",
       "    } else if (typeof vegaEmbed === \"function\") {\n",
       "      displayChart(vegaEmbed);\n",
       "    } else {\n",
       "      loadScript(\"vega\")\n",
       "        .then(() => loadScript(\"vega-lite\"))\n",
       "        .then(() => loadScript(\"vega-embed\"))\n",
       "        .catch(showError)\n",
       "        .then(() => displayChart(vegaEmbed));\n",
       "    }\n",
       "  })({\"config\": {\"view\": {\"continuousWidth\": 400, \"continuousHeight\": 300}}, \"layer\": [{\"mark\": \"line\", \"encoding\": {\"color\": {\"type\": \"nominal\", \"field\": \"setting\"}, \"x\": {\"type\": \"quantitative\", \"field\": \"k\"}, \"y\": {\"type\": \"quantitative\", \"field\": \"precision\"}}, \"height\": 250, \"selection\": {\"selector003\": {\"type\": \"interval\", \"bind\": \"scales\", \"encodings\": [\"x\", \"y\"]}}, \"width\": 600}, {\"mark\": \"line\", \"encoding\": {\"color\": {\"type\": \"nominal\", \"field\": \"setting\"}, \"x\": {\"type\": \"quantitative\", \"field\": \"k\"}, \"y\": {\"type\": \"quantitative\", \"field\": \"recall\"}}, \"height\": 250, \"selection\": {\"selector004\": {\"type\": \"interval\", \"bind\": \"scales\", \"encodings\": [\"x\", \"y\"]}}, \"width\": 600}], \"data\": {\"name\": \"data-f94b0cade9b5ffcf468e458a6fed3b26\"}, \"$schema\": \"https://vega.github.io/schema/vega-lite/v4.8.1.json\", \"datasets\": {\"data-f94b0cade9b5ffcf468e458a6fed3b26\": [{\"k\": 1, \"setting\": \"new\", \"precision\": 0.616909090909091, \"recall\": 0.020563636363636364}, {\"k\": 1, \"setting\": \"orig\", \"precision\": 0.6596363636363637, \"recall\": 0.02198787878787879}, {\"k\": 2, \"setting\": \"new\", \"precision\": 0.5919090909090909, \"recall\": 0.03946060606060606}, {\"k\": 2, \"setting\": \"orig\", \"precision\": 0.6398181818181818, \"recall\": 0.04265454545454545}, {\"k\": 3, \"setting\": \"new\", \"precision\": 0.5721818181818182, \"recall\": 0.057218181818181814}, {\"k\": 3, \"setting\": \"orig\", \"precision\": 0.6242424242424243, \"recall\": 0.06242424242424243}, {\"k\": 4, \"setting\": \"new\", \"precision\": 0.5560909090909091, \"recall\": 0.07414545454545454}, {\"k\": 4, \"setting\": \"orig\", \"precision\": 0.6114545454545455, \"recall\": 0.08152727272727273}, {\"k\": 5, \"setting\": \"new\", \"precision\": 0.5421818181818182, \"recall\": 0.09036363636363637}, {\"k\": 5, \"setting\": \"orig\", \"precision\": 0.5995636363636363, \"recall\": 0.09992727272727273}, {\"k\": 6, \"setting\": \"new\", \"precision\": 0.5296060606060606, \"recall\": 0.10592121212121212}, {\"k\": 6, \"setting\": \"orig\", \"precision\": 0.5896969696969697, \"recall\": 0.11793939393939393}, {\"k\": 7, \"setting\": \"new\", \"precision\": 0.5183376623376623, \"recall\": 0.12094545454545455}, {\"k\": 7, \"setting\": \"orig\", \"precision\": 0.5808051948051949, \"recall\": 0.13552121212121213}, {\"k\": 8, \"setting\": \"new\", \"precision\": 0.5079772727272728, \"recall\": 0.13546060606060606}, {\"k\": 8, \"setting\": \"orig\", \"precision\": 0.572, \"recall\": 0.15253333333333333}, {\"k\": 9, \"setting\": \"new\", \"precision\": 0.49882828282828284, \"recall\": 0.14964848484848484}, {\"k\": 9, \"setting\": \"orig\", \"precision\": 0.5641212121212121, \"recall\": 0.16923636363636363}, {\"k\": 10, \"setting\": \"new\", \"precision\": 0.49005454545454546, \"recall\": 0.16335151515151514}, {\"k\": 10, \"setting\": \"orig\", \"precision\": 0.5569454545454545, \"recall\": 0.18564848484848484}, {\"k\": 11, \"setting\": \"new\", \"precision\": 0.4812727272727273, \"recall\": 0.17646666666666666}, {\"k\": 11, \"setting\": \"orig\", \"precision\": 0.5498512396694215, \"recall\": 0.2016121212121212}, {\"k\": 12, \"setting\": \"new\", \"precision\": 0.4739090909090909, \"recall\": 0.18956363636363635}, {\"k\": 12, \"setting\": \"orig\", \"precision\": 0.5439545454545455, \"recall\": 0.21758181818181818}, {\"k\": 13, \"setting\": \"new\", \"precision\": 0.46606993006993, \"recall\": 0.20196363636363635}, {\"k\": 13, \"setting\": \"orig\", \"precision\": 0.5375804195804196, \"recall\": 0.23295151515151516}, {\"k\": 14, \"setting\": \"new\", \"precision\": 0.4591558441558441, \"recall\": 0.21427272727272728}, {\"k\": 14, \"setting\": \"orig\", \"precision\": 0.5314285714285714, \"recall\": 0.248}, {\"k\": 15, \"setting\": \"new\", \"precision\": 0.45236363636363636, \"recall\": 0.22618181818181818}, {\"k\": 15, \"setting\": \"orig\", \"precision\": 0.5255757575757576, \"recall\": 0.2627878787878788}, {\"k\": 16, \"setting\": \"new\", \"precision\": 0.44588636363636364, \"recall\": 0.2378060606060606}, {\"k\": 16, \"setting\": \"orig\", \"precision\": 0.5196363636363637, \"recall\": 0.27713939393939396}, {\"k\": 17, \"setting\": \"new\", \"precision\": 0.4395401069518717, \"recall\": 0.24907272727272728}, {\"k\": 17, \"setting\": \"orig\", \"precision\": 0.5141604278074866, \"recall\": 0.29135757575757576}, {\"k\": 18, \"setting\": \"new\", \"precision\": 0.4328787878787879, \"recall\": 0.25972727272727275}, {\"k\": 18, \"setting\": \"orig\", \"precision\": 0.5084444444444445, \"recall\": 0.30506666666666665}, {\"k\": 19, \"setting\": \"new\", \"precision\": 0.42677511961722486, \"recall\": 0.2702909090909091}, {\"k\": 19, \"setting\": \"orig\", \"precision\": 0.5026507177033492, \"recall\": 0.31834545454545454}, {\"k\": 20, \"setting\": \"new\", \"precision\": 0.4207727272727273, \"recall\": 0.2805151515151515}, {\"k\": 20, \"setting\": \"orig\", \"precision\": 0.4976272727272727, \"recall\": 0.33175151515151513}, {\"k\": 21, \"setting\": \"new\", \"precision\": 0.41535064935064936, \"recall\": 0.29074545454545453}, {\"k\": 21, \"setting\": \"orig\", \"precision\": 0.49243290043290044, \"recall\": 0.3447030303030303}, {\"k\": 22, \"setting\": \"new\", \"precision\": 0.4097933884297521, \"recall\": 0.3005151515151515}, {\"k\": 22, \"setting\": \"orig\", \"precision\": 0.48757024793388426, \"recall\": 0.3575515151515151}, {\"k\": 23, \"setting\": \"new\", \"precision\": 0.4044268774703557, \"recall\": 0.31006060606060604}, {\"k\": 23, \"setting\": \"orig\", \"precision\": 0.482798418972332, \"recall\": 0.37014545454545456}, {\"k\": 24, \"setting\": \"new\", \"precision\": 0.39938636363636365, \"recall\": 0.3195090909090909}, {\"k\": 24, \"setting\": \"orig\", \"precision\": 0.4783030303030303, \"recall\": 0.38264242424242423}, {\"k\": 25, \"setting\": \"new\", \"precision\": 0.3946836363636364, \"recall\": 0.3289030303030303}, {\"k\": 25, \"setting\": \"orig\", \"precision\": 0.47368000000000005, \"recall\": 0.3947333333333333}, {\"k\": 26, \"setting\": \"new\", \"precision\": 0.39002097902097904, \"recall\": 0.33801818181818183}, {\"k\": 26, \"setting\": \"orig\", \"precision\": 0.46895804195804197, \"recall\": 0.40643030303030303}, {\"k\": 27, \"setting\": \"new\", \"precision\": 0.3854276094276094, \"recall\": 0.34688484848484846}, {\"k\": 27, \"setting\": \"orig\", \"precision\": 0.46476094276094276, \"recall\": 0.4182848484848485}, {\"k\": 28, \"setting\": \"new\", \"precision\": 0.38112337662337664, \"recall\": 0.35571515151515154}, {\"k\": 28, \"setting\": \"orig\", \"precision\": 0.4606363636363636, \"recall\": 0.4299272727272727}, {\"k\": 29, \"setting\": \"new\", \"precision\": 0.3770156739811912, \"recall\": 0.36444848484848485}, {\"k\": 29, \"setting\": \"orig\", \"precision\": 0.4566645768025078, \"recall\": 0.44144242424242425}, {\"k\": 30, \"setting\": \"new\", \"precision\": 0.3724848484848485, \"recall\": 0.3724848484848485}, {\"k\": 30, \"setting\": \"orig\", \"precision\": 0.4530909090909091, \"recall\": 0.4530909090909091}, {\"k\": 31, \"setting\": \"new\", \"precision\": 0.3683519061583578, \"recall\": 0.38063030303030304}, {\"k\": 31, \"setting\": \"orig\", \"precision\": 0.44927859237536655, \"recall\": 0.4642545454545455}, {\"k\": 32, \"setting\": \"new\", \"precision\": 0.3645625, \"recall\": 0.3888666666666667}, {\"k\": 32, \"setting\": \"orig\", \"precision\": 0.4456590909090909, \"recall\": 0.47536969696969694}, {\"k\": 33, \"setting\": \"new\", \"precision\": 0.3606391184573003, \"recall\": 0.39670303030303034}, {\"k\": 33, \"setting\": \"orig\", \"precision\": 0.44203856749311293, \"recall\": 0.48624242424242425}, {\"k\": 34, \"setting\": \"new\", \"precision\": 0.35708556149732623, \"recall\": 0.4046969696969697}, {\"k\": 34, \"setting\": \"orig\", \"precision\": 0.43839572192513365, \"recall\": 0.4968484848484848}, {\"k\": 35, \"setting\": \"new\", \"precision\": 0.3535532467532468, \"recall\": 0.41247878787878783}, {\"k\": 35, \"setting\": \"orig\", \"precision\": 0.4346077922077922, \"recall\": 0.5070424242424243}, {\"k\": 36, \"setting\": \"new\", \"precision\": 0.3501313131313131, \"recall\": 0.4201575757575758}, {\"k\": 36, \"setting\": \"orig\", \"precision\": 0.43112626262626264, \"recall\": 0.5173515151515151}, {\"k\": 37, \"setting\": \"new\", \"precision\": 0.34697788697788695, \"recall\": 0.4279393939393939}, {\"k\": 37, \"setting\": \"orig\", \"precision\": 0.4278132678132678, \"recall\": 0.5276363636363637}, {\"k\": 38, \"setting\": \"new\", \"precision\": 0.34375598086124404, \"recall\": 0.43542424242424244}, {\"k\": 38, \"setting\": \"orig\", \"precision\": 0.424555023923445, \"recall\": 0.5377696969696969}, {\"k\": 39, \"setting\": \"new\", \"precision\": 0.3405501165501166, \"recall\": 0.4427151515151515}, {\"k\": 39, \"setting\": \"orig\", \"precision\": 0.42128671328671324, \"recall\": 0.5476727272727272}]}}, {\"mode\": \"vega-lite\"});\n",
       "</script>"
      ],
      "text/plain": [
       "alt.LayerChart(...)"
      ]
     },
     "execution_count": 10,
     "metadata": {},
     "output_type": "execute_result"
    }
   ],
   "source": [
    "import altair as alt\n",
    "\n",
    "p1 = (alt.Chart(plot_df)\n",
    "  .mark_line()\n",
    "  .encode(x='k', y='precision', color='setting')\n",
    "  .properties(width=600, height=250)\n",
    "  .interactive())\n",
    "\n",
    "p2 = (alt.Chart(plot_df)\n",
    "  .mark_line()\n",
    "  .encode(x='k', y='recall', color='setting')\n",
    "  .properties(width=600, height=250)\n",
    "  .interactive())\n",
    "\n",
    "p1 + p2"
   ]
  },
  {
   "cell_type": "code",
   "execution_count": null,
   "id": "7460529d-a10e-41ba-ba37-9d5145edcb5a",
   "metadata": {},
   "outputs": [],
   "source": []
  }
 ],
 "metadata": {
  "kernelspec": {
   "display_name": "Python 3 (ipykernel)",
   "language": "python",
   "name": "python3"
  },
  "language_info": {
   "codemirror_mode": {
    "name": "ipython",
    "version": 3
   },
   "file_extension": ".py",
   "mimetype": "text/x-python",
   "name": "python",
   "nbconvert_exporter": "python",
   "pygments_lexer": "ipython3",
   "version": "3.7.9"
  }
 },
 "nbformat": 4,
 "nbformat_minor": 5
}
