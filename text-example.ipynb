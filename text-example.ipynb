{
 "cells": [
  {
   "cell_type": "code",
   "execution_count": 1,
   "id": "06fdb205-a61c-4836-ba59-aa4a0fe92439",
   "metadata": {},
   "outputs": [],
   "source": [
    "%load_ext autoreload\n",
    "%autoreload 2"
   ]
  },
  {
   "cell_type": "code",
   "execution_count": 106,
   "id": "63e3e789-7a00-4742-ab40-0f84159ef768",
   "metadata": {},
   "outputs": [],
   "source": [
    "import pandas as pd \n",
    "\n",
    "from simsity.service import Service\n",
    "from simsity.indexer import PyNNDescentIndexer\n",
    "from sklearn.decomposition import TruncatedSVD\n",
    "from sklearn.feature_extraction.text import CountVectorizer, TfidfVectorizer\n",
    "\n",
    "df = pd.read_csv(\"tests/data/clinc-data.csv\")"
   ]
  },
  {
   "cell_type": "code",
   "execution_count": null,
   "id": "7627ebab-aa6f-4ca9-acce-45e1314cf9d1",
   "metadata": {},
   "outputs": [],
   "source": [
    "# The Indexer handles the nearest neighbor search\n",
    "# The Encoder handles the encoding of the datapoints\n",
    "service = Service(\n",
    "    indexer=PyNNDescentIndexer(metric=\"cosine\"),\n",
    "    encoder=TfidfVectorizer(analyzer=\"char\", ngram_range=(2, 3), binary=True)\n",
    ")\n",
    "\n",
    "# Index the datapoints\n",
    "service.train_text_from_dataf(df, text_col='text')"
   ]
  },
  {
   "cell_type": "code",
   "execution_count": null,
   "id": "900ce8bb-eb41-4088-a814-08aaa822f5f5",
   "metadata": {},
   "outputs": [],
   "source": [
    "res = service.query_text(\"bank\", n_neighbors=100)\n",
    "pd.DataFrame([{**r['item'], 'dist': r['dist']} for r in res])"
   ]
  },
  {
   "cell_type": "code",
   "execution_count": null,
   "id": "c5fc840d-4b90-4546-91a2-b1dca30ace8d",
   "metadata": {},
   "outputs": [],
   "source": []
  }
 ],
 "metadata": {
  "kernelspec": {
   "display_name": "Python 3 (ipykernel)",
   "language": "python",
   "name": "python3"
  },
  "language_info": {
   "codemirror_mode": {
    "name": "ipython",
    "version": 3
   },
   "file_extension": ".py",
   "mimetype": "text/x-python",
   "name": "python",
   "nbconvert_exporter": "python",
   "pygments_lexer": "ipython3",
   "version": "3.7.9"
  }
 },
 "nbformat": 4,
 "nbformat_minor": 5
}
