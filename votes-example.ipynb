{
 "cells": [
  {
   "cell_type": "code",
   "execution_count": 1,
   "id": "a34e0a91-86a6-4d8d-9622-45cbbcc4f85c",
   "metadata": {},
   "outputs": [],
   "source": [
    "%load_ext autoreload\n",
    "%autoreload 2"
   ]
  },
  {
   "cell_type": "code",
   "execution_count": 14,
   "id": "c7656274-8a61-43e6-85b4-ad3cccce2177",
   "metadata": {},
   "outputs": [],
   "source": [
    "import pandas as pd \n",
    "\n",
    "from simsity.service import Service\n",
    "from simsity.indexer import PyNNDescentIndexer\n",
    "from sklearn.feature_extraction.text import CountVectorizer\n",
    "\n",
    "from dirty_cat import SuperVectorizer, GapEncoder, SimilarityEncoder\n",
    "\n",
    "df = pd.read_csv(\"tests/data/votes.csv\")"
   ]
  },
  {
   "cell_type": "code",
   "execution_count": 15,
   "id": "1c0812e2-acd7-49e1-a799-19ad64e7e396",
   "metadata": {},
   "outputs": [
    {
     "data": {
      "text/plain": [
       "<simsity.service.Service at 0x7f23cce0ee90>"
      ]
     },
     "execution_count": 15,
     "metadata": {},
     "output_type": "execute_result"
    }
   ],
   "source": [
    "# The Indexer handles the nearest neighbor search\n",
    "# The Encoder handles the encoding of the datapoints\n",
    "service = Service(\n",
    "    indexer=PyNNDescentIndexer(metric=\"euclidean\"),\n",
    "    encoder=GapEncoder()\n",
    ")\n",
    "\n",
    "# Index the datapoints\n",
    "service.train_from_dataf(df)"
   ]
  },
  {
   "cell_type": "code",
   "execution_count": 16,
   "id": "a2613e6c-e578-4324-9457-448d252dc54c",
   "metadata": {},
   "outputs": [
    {
     "data": {
      "text/html": [
       "<div>\n",
       "<style scoped>\n",
       "    .dataframe tbody tr th:only-of-type {\n",
       "        vertical-align: middle;\n",
       "    }\n",
       "\n",
       "    .dataframe tbody tr th {\n",
       "        vertical-align: top;\n",
       "    }\n",
       "\n",
       "    .dataframe thead th {\n",
       "        text-align: right;\n",
       "    }\n",
       "</style>\n",
       "<table border=\"1\" class=\"dataframe\">\n",
       "  <thead>\n",
       "    <tr style=\"text-align: right;\">\n",
       "      <th></th>\n",
       "      <th>name</th>\n",
       "      <th>suburb</th>\n",
       "      <th>postcode</th>\n",
       "      <th>dist</th>\n",
       "    </tr>\n",
       "  </thead>\n",
       "  <tbody>\n",
       "    <tr>\n",
       "      <th>0</th>\n",
       "      <td>chimerc thmas</td>\n",
       "      <td>chaflotte</td>\n",
       "      <td>28269</td>\n",
       "      <td>2.903653</td>\n",
       "    </tr>\n",
       "    <tr>\n",
       "      <th>1</th>\n",
       "      <td>y'phil k'buor</td>\n",
       "      <td>charlotte</td>\n",
       "      <td>28214</td>\n",
       "      <td>3.020421</td>\n",
       "    </tr>\n",
       "    <tr>\n",
       "      <th>2</th>\n",
       "      <td>chimerc thomas</td>\n",
       "      <td>charlotte</td>\n",
       "      <td>28269</td>\n",
       "      <td>3.055613</td>\n",
       "    </tr>\n",
       "    <tr>\n",
       "      <th>3</th>\n",
       "      <td>khimerc thomas</td>\n",
       "      <td>charlotte</td>\n",
       "      <td>2826g</td>\n",
       "      <td>3.283473</td>\n",
       "    </tr>\n",
       "    <tr>\n",
       "      <th>4</th>\n",
       "      <td>yossef masmoudi</td>\n",
       "      <td>carlotte</td>\n",
       "      <td>28277</td>\n",
       "      <td>5.143340</td>\n",
       "    </tr>\n",
       "    <tr>\n",
       "      <th>...</th>\n",
       "      <td>...</td>\n",
       "      <td>...</td>\n",
       "      <td>...</td>\n",
       "      <td>...</td>\n",
       "    </tr>\n",
       "    <tr>\n",
       "      <th>95</th>\n",
       "      <td>selmi hill</td>\n",
       "      <td>cove ctiy</td>\n",
       "      <td>28523</td>\n",
       "      <td>14.823339</td>\n",
       "    </tr>\n",
       "    <tr>\n",
       "      <th>96</th>\n",
       "      <td>jeffrey cox</td>\n",
       "      <td>fletcher</td>\n",
       "      <td>28732</td>\n",
       "      <td>14.901284</td>\n",
       "    </tr>\n",
       "    <tr>\n",
       "      <th>97</th>\n",
       "      <td>anita harrell</td>\n",
       "      <td>willoamston</td>\n",
       "      <td>27897</td>\n",
       "      <td>14.967015</td>\n",
       "    </tr>\n",
       "    <tr>\n",
       "      <th>98</th>\n",
       "      <td>jeffrey smith</td>\n",
       "      <td>julian</td>\n",
       "      <td>27283</td>\n",
       "      <td>15.059195</td>\n",
       "    </tr>\n",
       "    <tr>\n",
       "      <th>99</th>\n",
       "      <td>mart deese</td>\n",
       "      <td>pembroke</td>\n",
       "      <td>2837z</td>\n",
       "      <td>15.079700</td>\n",
       "    </tr>\n",
       "  </tbody>\n",
       "</table>\n",
       "<p>100 rows × 4 columns</p>\n",
       "</div>"
      ],
      "text/plain": [
       "               name       suburb postcode       dist\n",
       "0     chimerc thmas    chaflotte    28269   2.903653\n",
       "1     y'phil k'buor    charlotte    28214   3.020421\n",
       "2    chimerc thomas    charlotte    28269   3.055613\n",
       "3    khimerc thomas    charlotte    2826g   3.283473\n",
       "4   yossef masmoudi     carlotte    28277   5.143340\n",
       "..              ...          ...      ...        ...\n",
       "95       selmi hill    cove ctiy    28523  14.823339\n",
       "96      jeffrey cox     fletcher    28732  14.901284\n",
       "97    anita harrell  willoamston    27897  14.967015\n",
       "98    jeffrey smith       julian    27283  15.059195\n",
       "99       mart deese     pembroke    2837z  15.079700\n",
       "\n",
       "[100 rows x 4 columns]"
      ]
     },
     "execution_count": 16,
     "metadata": {},
     "output_type": "execute_result"
    }
   ],
   "source": [
    "# Query the datapoints\n",
    "res = service.query(name=\"khimerc thmas\", suburb=\"chariotte\", postcode=\"28273\", n_neighbors=100)\n",
    "pd.DataFrame([{**r['item'], 'dist': r['dist']} for r in res])"
   ]
  }
 ],
 "metadata": {
  "kernelspec": {
   "display_name": "Python 3 (ipykernel)",
   "language": "python",
   "name": "python3"
  },
  "language_info": {
   "codemirror_mode": {
    "name": "ipython",
    "version": 3
   },
   "file_extension": ".py",
   "mimetype": "text/x-python",
   "name": "python",
   "nbconvert_exporter": "python",
   "pygments_lexer": "ipython3",
   "version": "3.7.9"
  }
 },
 "nbformat": 4,
 "nbformat_minor": 5
}
